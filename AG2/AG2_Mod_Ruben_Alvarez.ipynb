{
  "nbformat": 4,
  "nbformat_minor": 0,
  "metadata": {
    "colab": {
      "name": "AG2_Mod-Ruben_Alvarez.ipynb",
      "version": "0.3.2",
      "provenance": [],
      "collapsed_sections": [],
      "include_colab_link": true
    },
    "kernelspec": {
      "name": "python3",
      "display_name": "Python 3"
    }
  },
  "cells": [
    {
      "cell_type": "markdown",
      "metadata": {
        "id": "view-in-github",
        "colab_type": "text"
      },
      "source": [
        "<a href=\"https://colab.research.google.com/github/Rafleon00/03MAIR--Algoritmos-de-Optimizacion--2019/blob/master/AG2/AG2_Mod_Ruben_Alvarez.ipynb\" target=\"_parent\"><img src=\"https://colab.research.google.com/assets/colab-badge.svg\" alt=\"Open In Colab\"/></a>"
      ]
    },
    {
      "metadata": {
        "id": "wTbQQvPfpCrC",
        "colab_type": "text"
      },
      "cell_type": "markdown",
      "source": [
        "AG - Modificación Actividad Guiada 2<br>\n",
        "\n",
        "Rubén Álvarez Fernández<br>\n",
        "\n",
        "https://github.com/Rafleon00/03MAIR--Algoritmos-de-Optimizacion--2019/tree/master/AG2<br>\n"
      ]
    },
    {
      "metadata": {
        "id": "38q7TUzspF_5",
        "colab_type": "code",
        "colab": {}
      },
      "cell_type": "code",
      "source": [
        "#Decorador para calcular_tiempo a la función para la cual queremos calcular el tiempo de ejecución(Isabel Vázquez)\n",
        "\n",
        "from time import time\n",
        "#Función para calcular el tiempo de ejecución\n",
        "def calcular_tiempo(f):\n",
        "   \n",
        "  def wrapper(*args, **kwargs):       \n",
        "    inicio = time()       \n",
        "    resultado = f(*args, **kwargs)       \n",
        "    tiempo = time() - inicio\n",
        "    print(\"Tiempo de ejecución para algoritmo: \"+str(tiempo))\n",
        "    return resultado\n",
        "    \n",
        "  return wrapper"
      ],
      "execution_count": 0,
      "outputs": []
    },
    {
      "metadata": {
        "id": "bQRRNcAnpczR",
        "colab_type": "code",
        "colab": {}
      },
      "cell_type": "code",
      "source": [
        "import random\n",
        "import math\n",
        "\n",
        "N = 100\n",
        "LISTA_2D = [(random.randrange(1,N*10),random.randrange(1,N*10)) for _ in range(N)]"
      ],
      "execution_count": 0,
      "outputs": []
    },
    {
      "metadata": {
        "id": "w8uLXoWJpKYT",
        "colab_type": "code",
        "colab": {}
      },
      "cell_type": "code",
      "source": [
        "# Dos puntos más cercanos 2D (SIN MODIFICACIÓN)\n",
        "\n",
        "def distancia(A,B):\n",
        "  if (type(A) is int) or (type(A) is float):\n",
        "    return abs(A-B)\n",
        "  else:\n",
        "    return math.sqrt(sum([(A[i]-B[i])**2 for i in range(len(A))]))"
      ],
      "execution_count": 0,
      "outputs": []
    },
    {
      "metadata": {
        "id": "FYTTjWpnpfYb",
        "colab_type": "code",
        "outputId": "99d19cbf-526f-4dcb-8cb5-e9ef1d19bbae",
        "colab": {
          "base_uri": "https://localhost:8080/",
          "height": 34
        }
      },
      "cell_type": "code",
      "source": [
        "# Fuerza Bruta (SIN MODIFICACIÓN)\n",
        "def distancia_fuerza_bruta(L):\n",
        "  mejor_distancia = 1e10\n",
        "  \n",
        "  A,B = (),()\n",
        "  \n",
        "  for i in range(len(L)):\n",
        "    for j in range(i+1,len(L)):\n",
        "      d = distancia(L[i],L[j])\n",
        "      if d < mejor_distancia:\n",
        "        mejor_distancia = d\n",
        "        A,B = L[i],L[j]\n",
        "  \n",
        "  return [A,B]\n",
        "\n",
        "\n",
        "distancia_fuerza_bruta(LISTA_2D)"
      ],
      "execution_count": 0,
      "outputs": [
        {
          "output_type": "execute_result",
          "data": {
            "text/plain": [
              "[(546, 257), (554, 253)]"
            ]
          },
          "metadata": {
            "tags": []
          },
          "execution_count": 99
        }
      ]
    },
    {
      "metadata": {
        "id": "ubIgd9JKtQI3",
        "colab_type": "code",
        "outputId": "c7833610-c209-4aea-f8fe-f7b3bf5b9b5c",
        "colab": {
          "base_uri": "https://localhost:8080/",
          "height": 50
        }
      },
      "cell_type": "code",
      "source": [
        "# Divide y vencerás (MODIFICACIÓN)\n",
        "\n",
        "# Modificación: Selección de puntos comunes a la división general de la lista,\n",
        "# es decir, el primer punto de la segunda lista se replica en la primera y el \n",
        "# último punto de la primera lista se replica en la segunda\n",
        "\n",
        "# Este cambio no afecta al orden de complejidad del algoritmo, ya que sólo es\n",
        "# añadir un elemento adicional a cada lista y aplicar la función set\n",
        "\n",
        "def distancia_divide_y_venceras_mod(L):\n",
        "  # Si hay pocos elementos (Menos de 10): Fuerza Bruta\n",
        "  if len(L) < 5:\n",
        "    return distancia_fuerza_bruta(L)\n",
        "  \n",
        "  # Ordenación en listas grandes\n",
        "  LISTA_IZQ = sorted(L, key = lambda x:x[0])[:((len(L)//2)+1)]\n",
        "  LISTA_DER = sorted(L, key = lambda x:x[0])[((len(L)//2)-1):]\n",
        "  \n",
        "  \n",
        "  # Recursividad\n",
        "  PUNTOS_LISTA_IZQ = distancia_divide_y_venceras_mod(LISTA_IZQ)\n",
        "  PUNTOS_LISTA_DER = distancia_divide_y_venceras_mod(LISTA_DER)\n",
        "  \n",
        "  \n",
        "  return distancia_fuerza_bruta(list(set(PUNTOS_LISTA_IZQ + PUNTOS_LISTA_DER)))\n",
        "\n",
        "@calcular_tiempo\n",
        "def LANZA(L):\n",
        "  return distancia_divide_y_venceras(L)\n",
        "  \n",
        "LANZA(LISTA_2D)\n",
        "\n",
        "distancia_divide_y_venceras_mod(LISTA_2D)"
      ],
      "execution_count": 0,
      "outputs": [
        {
          "output_type": "stream",
          "text": [
            "Tiempo de ejecución para algoritmo: 0.0010845661163330078\n"
          ],
          "name": "stdout"
        },
        {
          "output_type": "execute_result",
          "data": {
            "text/plain": [
              "[(554, 253), (546, 257)]"
            ]
          },
          "metadata": {
            "tags": []
          },
          "execution_count": 100
        }
      ]
    },
    {
      "metadata": {
        "id": "bALX-OIA3jcU",
        "colab_type": "code",
        "outputId": "433f184d-009e-405e-fa24-06ca0bc68d3e",
        "colab": {
          "base_uri": "https://localhost:8080/",
          "height": 67
        }
      },
      "cell_type": "code",
      "source": [
        "# Programación dinámica: Viaje por el río (SIN MODIFICACIÖN)\n",
        "\n",
        "TARIFAS = [\n",
        "[0,5,4,3,999,999,999],\n",
        "[999,0,999,2,3,999,11],\n",
        "[999,999, 0,1,999,4,10],\n",
        "[999,999,999, 0,5,6,9],\n",
        "[999,999, 999,999,0,999,4],\n",
        "[999,999, 999,999,999,0,3],\n",
        "[999,999,999,999,999,999,0]\n",
        "]\n",
        "\n",
        "def Precios(TARIFAS):\n",
        "  N = len(TARIFAS[0])\n",
        "  \n",
        "  PRECIOS = [ [9999]*N for i in [9999]*N ]\n",
        "  RUTA = [ ['']*N for i in [9999]*N ]\n",
        "  \n",
        "  for i in range(N-1):\n",
        "    for j in range(i+1,N):\n",
        "      MIN = TARIFAS[i][j]\n",
        "      RUTA[i][j] = i\n",
        "      \n",
        "      for k in range(i,j):\n",
        "        if PRECIOS[i][k] + TARIFAS[k][j] < MIN:\n",
        "          MIN = min(MIN, PRECIOS[i][k] + TARIFAS[k][j])\n",
        "          RUTA[i][j] = k\n",
        "          \n",
        "      PRECIOS[i][j] = MIN\n",
        "      \n",
        "  return PRECIOS, RUTA\n",
        "  \n",
        "  \n",
        "PRECIOS, RUTAS = Precios(TARIFAS)\n",
        "\n",
        "\n",
        "def calcular_ruta(RUTA, desde, hasta):\n",
        "  if desde == hasta:\n",
        "    #print(\"Ir a :\" + str(desde))\n",
        "    return desde \n",
        "  else:\n",
        "    return str(calcular_ruta(RUTA, desde, RUTA[desde][hasta])) +  ',' + str(RUTA[desde][hasta]) \n",
        "\n",
        "print(\"\\nLa ruta es:\")  \n",
        "calcular_ruta(RUTAS, 0,6)"
      ],
      "execution_count": 0,
      "outputs": [
        {
          "output_type": "stream",
          "text": [
            "\n",
            "La ruta es:\n"
          ],
          "name": "stdout"
        },
        {
          "output_type": "execute_result",
          "data": {
            "text/plain": [
              "'0,0,2,5'"
            ]
          },
          "metadata": {
            "tags": []
          },
          "execution_count": 101
        }
      ]
    }
  ]
}