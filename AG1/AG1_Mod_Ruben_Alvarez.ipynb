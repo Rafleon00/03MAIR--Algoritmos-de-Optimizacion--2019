{
  "nbformat": 4,
  "nbformat_minor": 0,
  "metadata": {
    "colab": {
      "name": "AG1_Mod-Ruben_Alvarez.ipynb",
      "version": "0.3.2",
      "provenance": [],
      "collapsed_sections": [],
      "include_colab_link": true
    },
    "kernelspec": {
      "name": "python3",
      "display_name": "Python 3"
    }
  },
  "cells": [
    {
      "cell_type": "markdown",
      "metadata": {
        "id": "view-in-github",
        "colab_type": "text"
      },
      "source": [
        "<a href=\"https://colab.research.google.com/github/Rafleon00/03MAIR--Algoritmos-de-Optimizacion--2019/blob/master/AG1/AG1_Mod_Ruben_Alvarez.ipynb\" target=\"_parent\"><img src=\"https://colab.research.google.com/assets/colab-badge.svg\" alt=\"Open In Colab\"/></a>"
      ]
    },
    {
      "metadata": {
        "id": "uStwgh3TgTkE",
        "colab_type": "text"
      },
      "cell_type": "markdown",
      "source": [
        "AG - Modificación Actividad Guiada 1<br>\n",
        "\n",
        "Rubén Álvarez Fernández<br>\n",
        "\n",
        "https://github.com/Rafleon00/03MAIR--Algoritmos-de-Optimizacion--2019/tree/master/AG1<br>"
      ]
    },
    {
      "metadata": {
        "id": "WDIq7KhxgZ9Y",
        "colab_type": "code",
        "colab": {}
      },
      "cell_type": "code",
      "source": [
        "#Decorador para calcular_tiempo a la función para la cual queremos calcular el tiempo de ejecución(Isabel Vázquez)\n",
        "\n",
        "from time import time\n",
        "#Función para calcular el tiempo de ejecución\n",
        "def calcular_tiempo(f):\n",
        "   \n",
        "  def wrapper(*args, **kwargs):       \n",
        "    inicio = time()       \n",
        "    resultado = f(*args, **kwargs)       \n",
        "    tiempo = time() - inicio\n",
        "    print(\"Tiempo de ejecución para algoritmo: \"+str(tiempo))\n",
        "    return resultado\n",
        "    \n",
        "  return wrapper"
      ],
      "execution_count": 0,
      "outputs": []
    },
    {
      "metadata": {
        "id": "A8d1IZlogfQW",
        "colab_type": "code",
        "outputId": "aa117a19-59d6-4c38-ef1e-8a6222240013",
        "colab": {
          "base_uri": "https://localhost:8080/",
          "height": 70
        }
      },
      "cell_type": "code",
      "source": [
        "# Quick_sort (MODIFICACIÓN)\n",
        "\n",
        "# Modificación: Cuando la longitud de la lista sea de 3, se retorna directamente\n",
        "# mediante el cálculo del mínimo, máximo y posteriormente la eliminación de \n",
        "# estos valores de la lista para obtener el elemento restante\n",
        "\n",
        "# Se consigue reducir el número de veces que se aplica recurrencia y con ello\n",
        "# se reduce el tiempo de procesamiento, ya que el condicional presenta el mismo \n",
        "# orden O(n) que el condicional para len(A) == 2\n",
        "\n",
        "\n",
        "A = [9187, 244, 4054, 9222, 8373, 4993, 5265, 5470, 4519, 7182, 2035, 3506, 4337, 7580, 2554, 2824, 8357, 4447, 7379]\n",
        "\n",
        "def quick_sort(A):\n",
        "  if len(A) == 1:\n",
        "    return A\n",
        "  elif len(A) == 2:\n",
        "    return [min(A), max(A)]\n",
        "  elif len(A) == 3:\n",
        "    minA = min(A)\n",
        "    maxA = max(A)\n",
        "    A.remove(minA)\n",
        "    A.remove(maxA)\n",
        "    return [minA, A[0], maxA]\n",
        "    \n",
        "  \n",
        "  IZQ = []\n",
        "  DER = []\n",
        "  pivote = sum(A)/len(A)\n",
        "  \n",
        "  for i in A:\n",
        "    if i < pivote:\n",
        "      IZQ.append(i)\n",
        "    else:\n",
        "      DER.append(i)\n",
        "      \n",
        "  return quick_sort(IZQ) + quick_sort(DER) \n",
        "\n",
        "\n",
        "@calcular_tiempo\n",
        "def QS(A):\n",
        "  return quick_sort(A)\n",
        "\n",
        "print (QS(A))"
      ],
      "execution_count": 0,
      "outputs": [
        {
          "output_type": "stream",
          "text": [
            "Tiempo de ejecución para algoritmo: 3.743171691894531e-05\n",
            "[244, 2035, 2554, 2824, 3506, 4054, 4337, 4447, 4519, 4993, 5265, 5470, 7182, 7379, 7580, 8357, 8373, 9187, 9222]\n"
          ],
          "name": "stdout"
        }
      ]
    },
    {
      "metadata": {
        "id": "Uu6rTm58nnzX",
        "colab_type": "code",
        "outputId": "a470bca0-b742-4a21-8989-7453954e26c2",
        "colab": {
          "base_uri": "https://localhost:8080/",
          "height": 50
        }
      },
      "cell_type": "code",
      "source": [
        "# Algoritmo voraz cambio de monedas (SIN MODIFICACIONES)\n",
        "\n",
        "SISTEMA = [25,10,5,1]\n",
        "\n",
        "@calcular_tiempo\n",
        "def cambio_monedas(C, SISTEMA):\n",
        "  \n",
        "  SOLUCION = [0 for i in range(len(SISTEMA))]\n",
        "  VALOR_ACUMULADO = 0\n",
        "  \n",
        "  for i in range(len(SISTEMA)):\n",
        "    monedas = int((C-VALOR_ACUMULADO)/SISTEMA[i])\n",
        "    \n",
        "    SOLUCION [i] = monedas\n",
        "    VALOR_ACUMULADO += monedas*SISTEMA[i]\n",
        "    \n",
        "    if C == VALOR_ACUMULADO:\n",
        "      return SOLUCION\n",
        "\n",
        "\n",
        "cambio_monedas(86,SISTEMA)"
      ],
      "execution_count": 0,
      "outputs": [
        {
          "output_type": "stream",
          "text": [
            "Tiempo de ejecución para algoritmo: 8.106231689453125e-06\n"
          ],
          "name": "stdout"
        },
        {
          "output_type": "execute_result",
          "data": {
            "text/plain": [
              "[3, 1, 0, 1]"
            ]
          },
          "metadata": {
            "tags": []
          },
          "execution_count": 40
        }
      ]
    },
    {
      "metadata": {
        "id": "cpWF5p30ns8M",
        "colab_type": "code",
        "outputId": "42f44eac-151a-4c8d-f5ee-fd7efb5032d7",
        "colab": {
          "base_uri": "https://localhost:8080/",
          "height": 302
        }
      },
      "cell_type": "code",
      "source": [
        "# Algoritmo vuelta atrás (SIN MODIFICACIONES)\n",
        "\n",
        "N = 4\n",
        "solucion = [0 for i in range(N)]\n",
        "etapa = 0\n",
        "\n",
        "def es_prometedora(SOLUCION,etapa):\n",
        "  # Verificación de columnas\n",
        "  for i in range(etapa+1):\n",
        "    if SOLUCION.count(SOLUCION[i]) > 1:\n",
        "      return False\n",
        "    \n",
        "    # Verificación de diagonales  \n",
        "    for j in range(i+1, etapa+1):\n",
        "      if abs(i-j) == abs(SOLUCION[i]-SOLUCION[j]):\n",
        "        return False\n",
        "  \n",
        "  return True\n",
        "\n",
        "def escribe(S):\n",
        "  n = len(S)\n",
        "  for x in range(n):\n",
        "    print ('')\n",
        "    for i in range(n):\n",
        "      if solucion[i] == x+1:\n",
        "        print (' X ', end='')\n",
        "      else:\n",
        "        print (' - ', end='')\n",
        "    \n",
        "\n",
        "def reinas(N, solucion, etapa): # Tamaño del tablero\n",
        "  for i in range(1,N+1):\n",
        "    solucion[etapa] = i\n",
        "    \n",
        "    if es_prometedora(solucion,etapa):\n",
        "      if etapa == N-1:\n",
        "        print (\"\\n\\nLa solución es\")\n",
        "        print(solucion)\n",
        "        escribe(solucion)\n",
        "      else:\n",
        "        reinas(N, solucion, etapa+1)\n",
        "    else:\n",
        "      None\n",
        "        \n",
        "    solucion[etapa] = 0\n",
        "\n",
        "\n",
        "reinas(N, solucion, etapa)"
      ],
      "execution_count": 0,
      "outputs": [
        {
          "output_type": "stream",
          "text": [
            "\n",
            "\n",
            "La solución es\n",
            "[2, 4, 1, 3]\n",
            "\n",
            " -  -  X  - \n",
            " X  -  -  - \n",
            " -  -  -  X \n",
            " -  X  -  - \n",
            "\n",
            "La solución es\n",
            "[3, 1, 4, 2]\n",
            "\n",
            " -  X  -  - \n",
            " -  -  -  X \n",
            " X  -  -  - \n",
            " -  -  X  - "
          ],
          "name": "stdout"
        }
      ]
    }
  ]
}