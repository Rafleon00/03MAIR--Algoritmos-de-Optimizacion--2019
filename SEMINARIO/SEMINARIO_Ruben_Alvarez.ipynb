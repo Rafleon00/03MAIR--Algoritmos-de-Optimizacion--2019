{
  "nbformat": 4,
  "nbformat_minor": 0,
  "metadata": {
    "colab": {
      "name": "SEMINARIO_Ruben_Alvarez.ipynb",
      "version": "0.3.2",
      "provenance": [],
      "collapsed_sections": [],
      "include_colab_link": true
    },
    "kernelspec": {
      "name": "python3",
      "display_name": "Python 3"
    }
  },
  "cells": [
    {
      "cell_type": "markdown",
      "metadata": {
        "id": "view-in-github",
        "colab_type": "text"
      },
      "source": [
        "<a href=\"https://colab.research.google.com/github/Rafleon00/03MAIR--Algoritmos-de-Optimizacion--2019/blob/master/SEMINARIO/SEMINARIO_Ruben_Alvarez.ipynb\" target=\"_parent\"><img src=\"https://colab.research.google.com/assets/colab-badge.svg\" alt=\"Open In Colab\"/></a>"
      ]
    },
    {
      "metadata": {
        "id": "XQhV5hV6aGQo",
        "colab_type": "text"
      },
      "cell_type": "markdown",
      "source": [
        "Nombre y Apellidos: __Rubén Álvarez Fernández__<br><br>\n",
        "Url: https://github.com/Rafleon00/03MAIR--Algoritmos-de-Optimizacion--2019/tree/master/SEMINARIO<br><br>\n",
        "\n",
        "__Problema__:<br>\n",
        "\n",
        "__Organizar los horarios de partidos de La Liga__<br><br>\n",
        "\n",
        "\n",
        "Descripción del problema:<br>\n",
        "\n",
        "Desde la La Liga de fútbol profesional se pretende organizar los horarios de los partidos\n",
        "de liga de de cada jornada. Se conocen algunos datos que nos deben llevar a diseñar un\n",
        "algoritmo que realice la asignación de los partidos a los horarios que maximice la\n",
        "audiencia.<br><br>\n",
        "\n",
        "Los horarios disponibles se conocen a priori y son los siguientes:<br>\n",
        "\n",
        "Viernes: 20:00 h<br>\n",
        "Sábado :12:00 h, 16:00 h, 18:00 h, 20:00 h<br>\n",
        "Domingo: 12:00 h, 16:00 h, 18:00 h, 20:00 h<br>\n",
        "Lunes: 20:00 h<br><br>\n",
        "\n",
        "En primer lugar se clasifican los equipos en tres categorías según el numero de\n",
        "seguidores que tienen relación directa con la audiencia. Hay 4 equipos en la\n",
        "categoría A, 10 equipos de categoría B y 6 equipos de categoría C.<br>\n",
        "\n",
        "Se conoce estadísticamente la audiencia que genera cada partido según los equipos\n",
        "que se enfrentan y en horario de sábado a las 20h (el mejor en todos los casos):<br>\n",
        "\n",
        "Categoría A - Categoría A: 2 Millones <br>\n",
        "Categoría B - Categoría B: 0.9 Millones <br>\n",
        "Categoría C - Categoría C: 0.47 Millones <br>\n",
        "Categoría A - Categoría B: 1.3 Millones <br>\n",
        "Categoría A - Categoría C: 1 Millones <br>\n",
        "Categoría B - Categoría C: 0.75 Millones <br><br>\n",
        "\n",
        "Si el horario del partido no se realiza a las 20 horas del sábado se sabe que se reduce\n",
        "según los coeficientes de la siguiente tabla:<br>\n",
        "\n",
        "Viernes 20 h: 0.4<br>\n",
        "Sábado 12 h: 0.55<br>\n",
        "Sábado 16 h: 0.7<br>\n",
        "Sábado 18 h: 0.8<br>\n",
        "Sábado 20 h: 1<br>\n",
        "Domingo 12 h: 0.45<br>\n",
        "Domingo 16 h: 0.75<br>\n",
        "Domingo 18 h: 0.85<br>\n",
        "Domingo 20 h: 1<br>\n",
        "Lunes 20 h: 0.4<br>\n",
        "\n",
        "Debemos asignar obligatoriamente siempre un partido el viernes y un partido el lunes<br><br>\n",
        "\n",
        "Es posible la coincidencia de horarios pero en este caso la audiencia se verá afectada(no\n",
        "se acumula) y se repartirá según los siguientes criterios:<br>\n",
        "\n",
        "Se tomará la mejor audiencia y se repartirá según la siguiente ponderación:<br>\n",
        "A: 4 puntos<br>\n",
        "B: 2 puntos<br>\n",
        "C: 1 punto <br><br>"
      ]
    },
    {
      "metadata": {
        "id": "-nr_x96Fa8RJ",
        "colab_type": "text"
      },
      "cell_type": "markdown",
      "source": [
        "(*)¿Cuantas posibilidades hay sin tener en cuenta las restricciones?<br>\n",
        "\n",
        "\n",
        "\n",
        "¿Cuantas posibilidades hay teniendo en cuenta todas las restricciones."
      ]
    },
    {
      "metadata": {
        "id": "lCwYYu6Sa_kT",
        "colab_type": "text"
      },
      "cell_type": "markdown",
      "source": [
        "__Respuesta:__\n",
        "\n",
        "__(*)Posibilidades sin tener en cuenta las restricciones:__ <br>\n",
        "Existen un total de 10 partidos en una Jornada, siendo para cada uno de ellos posibles 10 posibles horarios. De este modo hay un total de 10^10 posibles soluciones al problema<br><br>\n",
        "\n",
        "\n",
        "__Posibilidades teniendo en cuenta todas la restricciones:__<br>\n",
        "Las restricciones de este problema son la obligatoriedad se situar al menos un partido el viernes y otro el lunes. Para los 10 partidos por Jornada, existirán un total de 10^8 posibles combinaciones, al asegurar que dos horarios(viernes y lunes) se cumplan siempre.br>br>"
      ]
    },
    {
      "metadata": {
        "id": "4sOR8IxjbAHH",
        "colab_type": "text"
      },
      "cell_type": "markdown",
      "source": [
        "Modelo para el espacio de soluciones<br>\n",
        "(*) ¿Cual es la estructura de datos que mejor se adapta al problema? Argumentalo.(Es posible que hayas elegido una al principio y veas la necesidad de cambiar, arguentalo)"
      ]
    },
    {
      "metadata": {
        "id": "RM4zg3ZibNCA",
        "colab_type": "text"
      },
      "cell_type": "markdown",
      "source": [
        "__Respuesta:__\n",
        "\n",
        "__(*)Modelo para el espacio de soluciones:__<br>\n",
        "La estructura de datos inicial seleccionada ha sido la generación de una lista de tuplas con los partidos de cada Jornada (lista fija). De este modo la solución al problema pasa por una lista con los horarios asignados a cada partido, de forma que a cada horario se le asigna un índice natural  (1: Viernes 20:00 h, ..., 10: Lunes 20:00 h).\n",
        "\n",
        "La restricción del problema se cumple al asegurar que en la lista de horarios aparezcan los índices 1 y 10 (Horarios de Viernes y Lunes respectivamente). Para más detalle consultar el código del algoritmo realizado.\n",
        "\n",
        "Las ventajas que permite este método es que es posible representar la coincidencia de horarios sin problema, facilitando la labor de detección y cálculo de audiencias corregidas en este caso. Adicionalmente la utilización de operadores genéticos también se ve favorecida por este modelado del espacio de soluciones.\n"
      ]
    },
    {
      "metadata": {
        "id": "6Dv6i6c6bOmN",
        "colab_type": "text"
      },
      "cell_type": "markdown",
      "source": [
        "Según el modelo para el espacio de soluciones<br>\n",
        "(*)¿Cual es la función objetivo?\n",
        "\n",
        "(*)¿Es un problema de maximización o minimización?"
      ]
    },
    {
      "metadata": {
        "id": "VbQNaM5tbRDF",
        "colab_type": "text"
      },
      "cell_type": "markdown",
      "source": [
        "__Respuesta:__\n",
        "\n",
        "__(*)¿Cual es la función objetivo?__ <br>\n",
        "La función objetivo es la suma de audiencias para todos los partidos de la Jornada, en función de los equipos que se enfrentan por partido, los horarios en que se producen los partidos y la existencia o no de repetición de horarios. <br><br>\n",
        "\n",
        "\n",
        "__(*)¿Es un problema de maximización o minimización?__<br>\n",
        "Es un problema de maximización de las audiencias conseguidas para la Jornada de LaLiga en cuestión.<br><br>"
      ]
    },
    {
      "metadata": {
        "id": "tf8BkWNobS3x",
        "colab_type": "text"
      },
      "cell_type": "markdown",
      "source": [
        "Diseña un algoritmo para resolver el problema por fuerza bruta"
      ]
    },
    {
      "metadata": {
        "id": "bRcXCuRVzrOo",
        "colab_type": "code",
        "colab": {}
      },
      "cell_type": "code",
      "source": [
        "# Función que calcula la audiencia base en cada partido de la Jornada\n",
        "# en función a la categoría de los equipos y devuelve la lista JORNADA\n",
        "# ordenada en función de la Audiencia de cada encuentro\n",
        "\n",
        "def AudienciaBase(JORNADA): \n",
        "  Aud_Base_Jornada = []\n",
        "  \n",
        "  for equipo in range(len(JORNADA)):\n",
        "    if (JORNADA[equipo][0] in CATEGORIA_A) and (JORNADA[equipo][1] in CATEGORIA_A):\n",
        "      Aud_partido = 2\n",
        "    elif (JORNADA[equipo][0] in CATEGORIA_B) and (JORNADA[equipo][1] in CATEGORIA_B):\n",
        "      Aud_partido = 0.9\n",
        "    elif (JORNADA[equipo][0] in CATEGORIA_C) and (JORNADA[equipo][1] in CATEGORIA_C):\n",
        "      Aud_partido = 0.47\n",
        "    elif  ((JORNADA[equipo][0] in CATEGORIA_A) and (JORNADA[equipo][1] in CATEGORIA_B)) or ((JORNADA[equipo][0] in CATEGORIA_B) and (JORNADA[equipo][1] in CATEGORIA_A)):\n",
        "      Aud_partido = 1.3\n",
        "    elif  ((JORNADA[equipo][0] in CATEGORIA_A) and (JORNADA[equipo][1] in CATEGORIA_C)) or ((JORNADA[equipo][0] in CATEGORIA_C) and (JORNADA[equipo][1] in CATEGORIA_A)):  \n",
        "      Aud_partido = 1\n",
        "    elif  ((JORNADA[equipo][0] in CATEGORIA_B) and (JORNADA[equipo][1] in CATEGORIA_C)) or ((JORNADA[equipo][0] in CATEGORIA_C) and (JORNADA[equipo][1] in CATEGORIA_B)):\n",
        "      Aud_partido = 0.75 \n",
        "    Aud_Base_Jornada.append(Aud_partido)\n",
        "  \n",
        "  return  Aud_Base_Jornada"
      ],
      "execution_count": 0,
      "outputs": []
    },
    {
      "metadata": {
        "id": "fzkJh39_zrjv",
        "colab_type": "code",
        "colab": {}
      },
      "cell_type": "code",
      "source": [
        "# Función que calcula la Audiencia de la Jornada en base a la Audiencia Base\n",
        "# el Horario (sin coincidencia de Horarios)\n",
        "\n",
        "def AudienciaHorario(HORARIO,Aud_Base):\n",
        "  Aud_Jornada = []\n",
        "\n",
        "  for partido in range(len(HORARIO)):\n",
        "    if (HORARIO[partido] == 1) or (HORARIO[partido] == 10):\n",
        "      Aud_Horario_Partido = 0.4*Aud_Base[partido]\n",
        "    elif HORARIO[partido] == 2:\n",
        "      Aud_Horario_Partido = 0.55*Aud_Base[partido]\n",
        "    elif HORARIO[partido] == 3:\n",
        "      Aud_Horario_Partido = 0.7*Aud_Base[partido]\n",
        "    elif HORARIO[partido] == 4:\n",
        "      Aud_Horario_Partido = 0.8*Aud_Base[partido]\n",
        "    elif HORARIO[partido] == 6:\n",
        "      Aud_Horario_Partido = 0.45*Aud_Base[partido]\n",
        "    elif HORARIO[partido] == 7:\n",
        "      Aud_Horario_Partido = 0.75*Aud_Base[partido]\n",
        "    elif HORARIO[partido] == 8:\n",
        "      Aud_Horario_Partido = 0.85*Aud_Base[partido]\n",
        "    elif (HORARIO[partido] == 5) or (HORARIO[partido] ==9):\n",
        "      Aud_Horario_Partido = Aud_Base[partido]\n",
        "    \n",
        "    Aud_Jornada.append(Aud_Horario_Partido)\n",
        "    \n",
        "  return Aud_Jornada"
      ],
      "execution_count": 0,
      "outputs": []
    },
    {
      "metadata": {
        "id": "0l7rqhmvzruP",
        "colab_type": "code",
        "colab": {}
      },
      "cell_type": "code",
      "source": [
        "def Correcion_Horarios_Coincidentes(HORARIO, JORNADA, CATEGORIA_A, CATEGORIA_B, CATEGORIA_C, Aud_Jornada):  \n",
        "  coinc = list(set([x for x in HORARIO  if HORARIO.count(x) > 1]))\n",
        "  Partidos_coin = [[] for _ in range(len(coinc))]\n",
        "  Aud_Jornada_coin = [[] for _ in range(len(coinc))]\n",
        "  lugar = [[] for _ in range(len(coinc))]\n",
        "\n",
        "  # Obtención de partidos coincidentes\n",
        "  for i in range(len(coinc)):\n",
        "    for j in range(len(HORARIO)):\n",
        "      if coinc[i]==HORARIO[j]:\n",
        "        lugar[i].append(j)\n",
        "        Partidos_coin[i].append(JORNADA[j])\n",
        "        Aud_Jornada_coin[i].append(Aud_Jornada[j])\n",
        "          \n",
        "      \n",
        " # Calculo de audiencia de partidos coincidentes\n",
        "  for part_coin in Partidos_coin:\n",
        "    val = []\n",
        "    for partido in part_coin:\n",
        "      for equipo in partido:\n",
        "        if equipo in CATEGORIA_A:\n",
        "          val.append(VALORACIONES[0])\n",
        "        elif equipo in CATEGORIA_B:\n",
        "          val.append(VALORACIONES[1])\n",
        "        elif equipo in CATEGORIA_C:\n",
        "          val.append(VALORACIONES[2])\n",
        "  \n",
        "\n",
        "  # Asignación de audiencias corregidas a Audiencia finales de Jornada\n",
        "  for i in range(len(coinc)):\n",
        "    Aud_Max_Jornada = max(Aud_Jornada_coin[i])\n",
        "    partido = 0\n",
        "    for j in range(len(Aud_Jornada_coin[i])):\n",
        "      Aud_Jornada[lugar[i][j]] = (sum(val[partido:partido+2])/sum(val))*Aud_Max_Jornada\n",
        "      partido = partido + 2\n",
        "\n",
        "  return Aud_Jornada"
      ],
      "execution_count": 0,
      "outputs": []
    },
    {
      "metadata": {
        "id": "QNVHQDwgbat9",
        "colab_type": "code",
        "colab": {}
      },
      "cell_type": "code",
      "source": [
        "# Horarios\n",
        "H = ['Viernes 20:00 h', 'Sabado 12:00 h','Sabado 16:00 h','Sabado 18:00 h','Sabado 20:00 h','Domingo 12:00 h','Domingo 16:00 h','Domingo 18:00 h','Domingo 20:00 h','Lunes 20:00 h']\n",
        "HORARIO = [1,2,3,4,5,6,7,8,9,10]\n",
        "\n",
        "# CATEGORÍA EQUIPOS de LA LIGA según AUDIENCIA\n",
        "CATEGORIA_A = ['Real Madrid','Barcelona','Atletico Madrid','Valencia']\n",
        "CATEGORIA_B = ['Sevilla','Betis','Athletic Bilbao','Real Sociedad','Villareal','Espanyol','Celta de Vigo','Getafe','Alaves','Eibar']\n",
        "CATEGORIA_C = ['Huesca','Rayo Vallecano','Leganes','Valladolid','Girona','Levante']\n",
        "\n",
        "# Valoraciones por CATEGORÍA PARTIDO en caso de COINCIDENCIA\n",
        "   # A: 4 PUNTOS\n",
        "   # B: 2 PUNTOS\n",
        "   # C: 1 PUNTOS\n",
        "VALORACIONES = [4,2,1]\n",
        "\n",
        "\n",
        "def AlgoritmoFuerzaBruta_LaLiga (HORARIO, JORNADA, CATEGORIA_A, CATEGORIA_B, CATEGORIA_C):\n",
        "  mejor_audiencia = 0\n",
        "\n",
        "  for horario1 in HORARIO:\n",
        "    for horario2 in HORARIO:\n",
        "      for horario3 in HORARIO:\n",
        "        for horario4 in HORARIO:\n",
        "          for horario5 in HORARIO:\n",
        "            for horario6 in HORARIO:\n",
        "              for horario7 in HORARIO:\n",
        "                for horario8 in HORARIO:\n",
        "                  for horario9 in HORARIO:\n",
        "                    for horario10 in HORARIO:\n",
        "                    \n",
        "                      horario = [horario1, horario2, horario3, horario4, horario5, horario6, horario7, horario8, horario9, horario10]\n",
        "                    \n",
        "                      # Calculo de audiencias\n",
        "                      if (1 in horario) and (10 in horario): # Restriccion partidos viernes y lunes\n",
        "                        Aud_base = AudienciaBase(JORNADA)\n",
        "                        Aud_Jornada = AudienciaHorario(horario,Aud_base)\n",
        "                        if len(horario) != len(set(horario)):\n",
        "                          Aud_Jornada = Correcion_Horarios_Coincidentes(horario, JORNADA, CATEGORIA_A, CATEGORIA_B, CATEGORIA_C, Aud_Jornada)\n",
        "                      else:\n",
        "                        Aud_Jornada = [0]\n",
        "                      \n",
        "                      Audiencia = sum(Aud_Jornada)\n",
        "                    \n",
        "                      # Obtención de mejor solución\n",
        "                      if Audiencia > mejor_audiencia:\n",
        "                        solucion = horario\n",
        "                        mejor_audiencia = Audiencia\n",
        "                      \n",
        "                      \n",
        "  return mejor_audiencia, solucion"
      ],
      "execution_count": 0,
      "outputs": []
    },
    {
      "metadata": {
        "id": "LR3NH2oKbbnV",
        "colab_type": "text"
      },
      "cell_type": "markdown",
      "source": [
        "Calcula la complejidad del algoritmo por fuerza bruta"
      ]
    },
    {
      "metadata": {
        "id": "gkpOK3rCbhmR",
        "colab_type": "text"
      },
      "cell_type": "markdown",
      "source": [
        "__Respuesta:__\n",
        "\n",
        "Dado que es necesario recorrer los 10 posibles horarios disponibles para cada uno de los 10 partidos existentes por Jornada, generando en cada caso todas las combinaciones, serán necesarios 10 bucles anidados ( __O(n^10)__). Adicionalmente, el cálculo de las audiencias para cada horario ha sido realizado por una serie de funciones, cuyo mayor orden es ( __O(n^3)__) (para más información consultar el código del algoritmo realizado).<br>\n",
        "\n",
        "Esto indica que el orden de complejidad del algoritmo de fuerza bruta será de ( __O(n^13)__), lo que para un total de 10^10 posibles soluciones al problema lo hace completamente inasumible desde el punto de vista de fuerza bruta. <br><br>\n",
        "\n"
      ]
    },
    {
      "metadata": {
        "id": "acMmPwbLbkRD",
        "colab_type": "text"
      },
      "cell_type": "markdown",
      "source": [
        "(*)Diseña un algoritmo que mejore la complejidad del algortimo por fuerza bruta. Argumenta porque crees que mejora el algoritmo por fuerza bruta"
      ]
    },
    {
      "metadata": {
        "id": "eIJnyTCqtaY1",
        "colab_type": "text"
      },
      "cell_type": "markdown",
      "source": [
        "__(*) ALGORITMO REALIZADO: ALGORITMO GENÉTICO__\n",
        "\n",
        "La selección de este tipo de técnica se sustenta sobre tres pilares:\n",
        "\n",
        "1. El espacio de soluciones y el orden de complejidad del algoritmo de fuerza bruta dificultan el tratamiento a prior del problema con métodos exactos, por lo que se ha decidido emplear técnicas heurísticas. <br>\n",
        "\n",
        "2. Dentro de los métodos heurísticos, la modelización del problema mediante algoritmos genéticos donde los individuos de la población representan los horarios solución para una Jornada se ha mostrado eficiente y fácil de implementar, especialmente desde el punto de vista del uso de los operadores genéticos.<br>\n",
        "\n",
        "3. Finalmente y a nivel académico, se ha seleccionado este método ya que no se realizó ninguna Actividad Guiada sobre estas técnicas. <br><br>"
      ]
    },
    {
      "metadata": {
        "id": "HnECp4bNblGn",
        "colab_type": "code",
        "colab": {}
      },
      "cell_type": "code",
      "source": [
        "import numpy as np"
      ],
      "execution_count": 0,
      "outputs": []
    },
    {
      "metadata": {
        "id": "6gAb4TSku3wn",
        "colab_type": "code",
        "colab": {}
      },
      "cell_type": "code",
      "source": [
        "# Función que calcula la audiencia base en cada partido de la Jornada\n",
        "# en función a la categoría de los equipos y devuelve la lista JORNADA\n",
        "# ordenada en función de la Audiencia de cada encuentro\n",
        "\n",
        "# (REPETICIÓN DE FUNCIÓN SUPERIOR)\n",
        "\n",
        "def AudienciaBase(JORNADA): \n",
        "  Aud_Base_Jornada = []\n",
        "  \n",
        "  for equipo in range(len(JORNADA)):\n",
        "    if (JORNADA[equipo][0] in CATEGORIA_A) and (JORNADA[equipo][1] in CATEGORIA_A):\n",
        "      Aud_partido = 2\n",
        "    elif (JORNADA[equipo][0] in CATEGORIA_B) and (JORNADA[equipo][1] in CATEGORIA_B):\n",
        "      Aud_partido = 0.9\n",
        "    elif (JORNADA[equipo][0] in CATEGORIA_C) and (JORNADA[equipo][1] in CATEGORIA_C):\n",
        "      Aud_partido = 0.47\n",
        "    elif  ((JORNADA[equipo][0] in CATEGORIA_A) and (JORNADA[equipo][1] in CATEGORIA_B)) or ((JORNADA[equipo][0] in CATEGORIA_B) and (JORNADA[equipo][1] in CATEGORIA_A)):\n",
        "      Aud_partido = 1.3\n",
        "    elif  ((JORNADA[equipo][0] in CATEGORIA_A) and (JORNADA[equipo][1] in CATEGORIA_C)) or ((JORNADA[equipo][0] in CATEGORIA_C) and (JORNADA[equipo][1] in CATEGORIA_A)):  \n",
        "      Aud_partido = 1\n",
        "    elif  ((JORNADA[equipo][0] in CATEGORIA_B) and (JORNADA[equipo][1] in CATEGORIA_C)) or ((JORNADA[equipo][0] in CATEGORIA_C) and (JORNADA[equipo][1] in CATEGORIA_B)):\n",
        "      Aud_partido = 0.75 \n",
        "    Aud_Base_Jornada.append(Aud_partido)\n",
        "  \n",
        "  return  Aud_Base_Jornada"
      ],
      "execution_count": 0,
      "outputs": []
    },
    {
      "metadata": {
        "id": "8T1vby53u39E",
        "colab_type": "code",
        "colab": {}
      },
      "cell_type": "code",
      "source": [
        "# Función que calcula la Audiencia de la Jornada en base a la Audiencia Base\n",
        "# el Horario (sin coincidencia de Horarios)\n",
        "\n",
        "# (REPETICIÓN DE FUNCIÓN SUPERIOR)\n",
        "\n",
        "def AudienciaHorario(HORARIO,Aud_Base):\n",
        "  Aud_Jornada = []\n",
        "\n",
        "  for partido in range(len(HORARIO)):\n",
        "    if (HORARIO[partido] == 1) or (HORARIO[partido] == 10):\n",
        "      Aud_Horario_Partido = 0.4*Aud_Base[partido]\n",
        "    elif HORARIO[partido] == 2:\n",
        "      Aud_Horario_Partido = 0.55*Aud_Base[partido]\n",
        "    elif HORARIO[partido] == 3:\n",
        "      Aud_Horario_Partido = 0.7*Aud_Base[partido]\n",
        "    elif HORARIO[partido] == 4:\n",
        "      Aud_Horario_Partido = 0.8*Aud_Base[partido]\n",
        "    elif HORARIO[partido] == 6:\n",
        "      Aud_Horario_Partido = 0.45*Aud_Base[partido]\n",
        "    elif HORARIO[partido] == 7:\n",
        "      Aud_Horario_Partido = 0.75*Aud_Base[partido]\n",
        "    elif HORARIO[partido] == 8:\n",
        "      Aud_Horario_Partido = 0.85*Aud_Base[partido]\n",
        "    elif (HORARIO[partido] == 5) or (HORARIO[partido] ==9):\n",
        "      Aud_Horario_Partido = Aud_Base[partido]\n",
        "    \n",
        "    Aud_Jornada.append(Aud_Horario_Partido)\n",
        "    \n",
        "  return Aud_Jornada"
      ],
      "execution_count": 0,
      "outputs": []
    },
    {
      "metadata": {
        "id": "yF3dYo64u4DD",
        "colab_type": "code",
        "colab": {}
      },
      "cell_type": "code",
      "source": [
        "# Función que calcula la Audiencia de los partidos de la Jornada si existe coincidencia de horarios\n",
        "\n",
        "# (REPETICIÓN DE FUNCIÓN SUPERIOR)\n",
        "\n",
        "def Correcion_Horarios_Coincidentes(HORARIO, JORNADA, CATEGORIA_A, CATEGORIA_B, CATEGORIA_C, Aud_Jornada):  \n",
        "  coinc = list(set([x for x in HORARIO  if HORARIO.count(x) > 1]))\n",
        "  Partidos_coin = [[] for _ in range(len(coinc))]\n",
        "  Aud_Jornada_coin = [[] for _ in range(len(coinc))]\n",
        "  lugar = [[] for _ in range(len(coinc))]\n",
        "\n",
        "  # Obtención de partidos coincidentes\n",
        "  for i in range(len(coinc)):\n",
        "    for j in range(len(HORARIO)):\n",
        "      if coinc[i]==HORARIO[j]:\n",
        "        lugar[i].append(j)\n",
        "        Partidos_coin[i].append(JORNADA[j])\n",
        "        Aud_Jornada_coin[i].append(Aud_Jornada[j])\n",
        "          \n",
        "      \n",
        " # Calculo de audiencia de partidos coincidentes\n",
        "  for part_coin in Partidos_coin:\n",
        "    val = []\n",
        "    for partido in part_coin:\n",
        "      for equipo in partido:\n",
        "        if equipo in CATEGORIA_A:\n",
        "          val.append(VALORACIONES[0])\n",
        "        elif equipo in CATEGORIA_B:\n",
        "          val.append(VALORACIONES[1])\n",
        "        elif equipo in CATEGORIA_C:\n",
        "          val.append(VALORACIONES[2])\n",
        "  \n",
        "\n",
        "  # Asignación de audiencias corregidas a Audiencia finales de Jornada\n",
        "  for i in range(len(coinc)):\n",
        "    Aud_Max_Jornada = max(Aud_Jornada_coin[i])\n",
        "    partido = 0\n",
        "    for j in range(len(Aud_Jornada_coin[i])):\n",
        "      Aud_Jornada[lugar[i][j]] = (sum(val[partido:partido+2])/sum(val))*Aud_Max_Jornada\n",
        "      partido = partido + 2\n",
        "\n",
        "  return Aud_Jornada"
      ],
      "execution_count": 0,
      "outputs": []
    },
    {
      "metadata": {
        "id": "fa5R5HZyu4GV",
        "colab_type": "code",
        "colab": {}
      },
      "cell_type": "code",
      "source": [
        "# Generación de población inicial del algoritmo genético\n",
        "def Generacion_poblacion(N,HORARIO):\n",
        "  poblacion = []\n",
        "  \n",
        "  for individuo in range(N):\n",
        "    ind = list(np.random.permutation(HORARIO))\n",
        "    poblacion.append(ind)\n",
        "    \n",
        "  return poblacion"
      ],
      "execution_count": 0,
      "outputs": []
    },
    {
      "metadata": {
        "id": "vNpYrlkeu4Kn",
        "colab_type": "code",
        "colab": {}
      },
      "cell_type": "code",
      "source": [
        "# Función que evalúa a cada individuo de la población\n",
        "\n",
        "def Evaluacion_poblacion(poblacion, JORNADA, CATEGORIA_A, CATEGORIA_B, CATEGORIA_C):\n",
        "  funcion_fitness = []\n",
        "  \n",
        "  for horario in poblacion:\n",
        "    \n",
        "    if (1 in horario) and (10 in horario): # Restriccion partidos viernes y lunes\n",
        "      Aud_base = AudienciaBase(JORNADA)\n",
        "      Aud_Jornada = AudienciaHorario(horario,Aud_base)\n",
        "      if len(horario) != len(set(horario)):\n",
        "        Aud_Jornada = Correcion_Horarios_Coincidentes(horario, JORNADA, CATEGORIA_A, CATEGORIA_B, CATEGORIA_C, Aud_Jornada)\n",
        "    else:\n",
        "      Aud_Jornada = [0]\n",
        "      \n",
        "    funcion_fitness.append(sum(Aud_Jornada))\n",
        "    \n",
        "  ind = funcion_fitness.index(max(funcion_fitness))\n",
        "  mejor_individuo = poblacion[ind]\n",
        "  mejor_audiencia = max(funcion_fitness)\n",
        "  \n",
        "  return funcion_fitness, mejor_individuo, mejor_audiencia"
      ],
      "execution_count": 0,
      "outputs": []
    },
    {
      "metadata": {
        "id": "hNh7SBTbvDRk",
        "colab_type": "code",
        "colab": {}
      },
      "cell_type": "code",
      "source": [
        "# Función que selecciona los mejores individuos de la población en comparación\n",
        "# por parejas (Torneo 2)\n",
        "\n",
        "def Seleccion_poblacion(N,poblacion,funcion_fitness):\n",
        "  index = []\n",
        "\n",
        "  # Repetición del Torneo2 en dos ocasiones para mantener tamaño de población inicial\n",
        "  for torneo in range(2):\n",
        "  \n",
        "    # Selección aleatoria de individuos en competición\n",
        "    indices = np.random.permutation(range(N))\n",
        "    indiv1 = indices[:N//2]\n",
        "    indiv2 = indices[N//2:]\n",
        "  \n",
        "    for comparacion in range(len(indiv1)):\n",
        "      if funcion_fitness[indiv1[comparacion]] >= funcion_fitness[indiv2[comparacion]]:\n",
        "        index.append(indiv1[comparacion])\n",
        "      else:\n",
        "        index.append(indiv2[comparacion])\n",
        "  \n",
        "  # Generación de la población de individuos supervivientes al Torneo2\n",
        "  poblacion_sel = [poblacion[index[i]] for i in range(len(index))]\n",
        "  \n",
        "  return poblacion_sel"
      ],
      "execution_count": 0,
      "outputs": []
    },
    {
      "metadata": {
        "id": "NpJWonJ4vDTP",
        "colab_type": "code",
        "colab": {}
      },
      "cell_type": "code",
      "source": [
        "# Función que efectúa el Cruce en un Punto de los individuos de la población\n",
        "# de individuos supervivientes del proceso de selección (Sin elitismo)\n",
        "\n",
        "def Cruce_poblacion (N,poblacion):\n",
        "  pob_desc = []\n",
        "\n",
        "  # Selección aleatoria de progenitores para cruce\n",
        "  indices = np.random.permutation(range(N))\n",
        "  progenitores1 = indices[:N//2]\n",
        "  progenitores2 = indices[N//2:]\n",
        "\n",
        "  for ind in range(len(progenitores1)):\n",
        "    # Elección punto de corte del cruce\n",
        "    corte = np.random.choice(range(1,len(poblacion[0])))\n",
        "\n",
        "    # Selección de progenitores\n",
        "    descendiente1 = poblacion[progenitores1[ind]][:corte] + poblacion[progenitores2[ind]][corte:]\n",
        "    descendiente2 = poblacion[progenitores2[ind]][:corte] + poblacion[progenitores1[ind]][corte:]\n",
        "\n",
        "    # Adicción de descendientes a nueva población\n",
        "    pob_desc.append(descendiente1)\n",
        "    pob_desc.append(descendiente2)\n",
        "\n",
        "  return pob_desc"
      ],
      "execution_count": 0,
      "outputs": []
    },
    {
      "metadata": {
        "id": "JyTvu7jJvDVl",
        "colab_type": "code",
        "colab": {}
      },
      "cell_type": "code",
      "source": [
        "# Función que realiza la mutación de los individuos obtenidos tras el operador\n",
        "# genético de cruce (asegurar diversidad población)\n",
        "\n",
        "def Mutacion_poblacion(N,poblacion,mutacion):\n",
        "\n",
        "  for ind in range(N):\n",
        "    for crom in range(len(poblacion[ind])):\n",
        "\n",
        "      # Mutación\n",
        "      if np.random.rand() < (mutacion/100):\n",
        "        i = np.random.choice(range(1,len(poblacion[ind])))\n",
        "        j = np.random.choice(list(set(range(1,len(poblacion[ind])))-{i}))\n",
        "        poblacion[ind][i],poblacion[ind][j] = poblacion[ind][j],poblacion[ind][i]\n",
        "\n",
        "  return poblacion"
      ],
      "execution_count": 0,
      "outputs": []
    },
    {
      "metadata": {
        "id": "pZFW729jvt6w",
        "colab_type": "code",
        "colab": {}
      },
      "cell_type": "code",
      "source": [
        "# ALGORITMO GENÉTICO \n",
        "\n",
        "# Horarios\n",
        "H = ['Viernes 20:00 h', 'Sabado 12:00 h','Sabado 16:00 h','Sabado 18:00 h','Sabado 20:00 h','Domingo 12:00 h','Domingo 16:00 h','Domingo 18:00 h','Domingo 20:00 h','Lunes 20:00 h']\n",
        "HORARIO = [1,2,3,4,5,6,7,8,9,10]\n",
        "\n",
        "# CATEGORÍA EQUIPOS de LA LIGA según AUDIENCIA\n",
        "CATEGORIA_A = ['Real Madrid','Barcelona','Atletico Madrid','Valencia']\n",
        "CATEGORIA_B = ['Sevilla','Betis','Athletic Bilbao','Real Sociedad','Villareal','Espanyol','Celta de Vigo','Getafe','Alaves','Eibar']\n",
        "CATEGORIA_C = ['Huesca','Rayo Vallecano','Leganes','Valladolid','Girona','Levante']\n",
        "\n",
        "# Valoraciones por CATEGORÍA PARTIDO en caso de COINCIDENCIA\n",
        "   # A: 4 PUNTOS\n",
        "   # B: 2 PUNTOS\n",
        "   # C: 1 PUNTOS\n",
        "VALORACIONES = [4,2,1]\n",
        "\n",
        "\n",
        "# Variables Globales Algoritmo Genético\n",
        "N = 100 \n",
        "mutacion = 3\n",
        "Generaciones = 100\n",
        "\n",
        "def AlgoritmoGenetico_LaLiga(N, mutacion, Generaciones, HORARIO, JORNADA, CATEGORIA_A, CATEGORIA_B, CATEGORIA_C):\n",
        "  \n",
        "\n",
        "  # Función principal del algoritmo genético\n",
        "  # N: Tamaño de la población\n",
        "  # Generaciones: Número de generaciones del algoritmo genético\n",
        "  # mutación: Probabilidad de mutación\n",
        "\n",
        "\n",
        "  AUDIENCIA= 0\n",
        "\n",
        "  # Generación de la población inicial\n",
        "  poblacion = Generacion_poblacion(N,HORARIO)\n",
        "\n",
        "  # Evaluación de la población inicial\n",
        "  funcion_fitness, mejor_individuo, mejor_audiencia = Evaluacion_poblacion(poblacion, JORNADA, CATEGORIA_A, CATEGORIA_B, CATEGORIA_C)\n",
        "\n",
        "  # Inicialización del algoritmo genético\n",
        "  gen = 1\n",
        "\n",
        "  # Ciclo de generaciones\n",
        "  while gen < Generaciones:\n",
        "\n",
        "    # Selección de la población\n",
        "    poblacion = Seleccion_poblacion(N,poblacion,funcion_fitness) \n",
        "\n",
        "    # Cruce de la población\n",
        "    poblacion = Cruce_poblacion(N,poblacion)\n",
        "  \n",
        "    # Mutación de la población\n",
        "    poblacion = Mutacion_poblacion(N,poblacion,mutacion)\n",
        "  \n",
        " \n",
        "    # Evaluación de la población\n",
        "    funcion_fitness, mejor_individuo, mejor_audiencia = Evaluacion_poblacion(poblacion, JORNADA, CATEGORIA_A, CATEGORIA_B, CATEGORIA_C)\n",
        "  \n",
        "  \n",
        "    # Seleccion del mejor individuo\n",
        "    if mejor_audiencia > AUDIENCIA:\n",
        "      solucion = mejor_individuo\n",
        "      AUDIENCIA = mejor_audiencia\n",
        "   \n",
        "    gen = gen +1\n",
        "  \n",
        "  \n",
        "  return AUDIENCIA, solucion"
      ],
      "execution_count": 0,
      "outputs": []
    },
    {
      "metadata": {
        "id": "YDLJiob9bnAl",
        "colab_type": "text"
      },
      "cell_type": "markdown",
      "source": [
        "(*)Calcula la complejidad del algoritmo "
      ]
    },
    {
      "metadata": {
        "id": "dG_pB4lnbneH",
        "colab_type": "text"
      },
      "cell_type": "markdown",
      "source": [
        "__(*) Respuesta:__\n",
        "\n",
        "El orden de complejidad del algoritmo propuesto viene determinado por las funciones __AlgoritmoGenetico_LaLiga__ , __Evaluacion_poblacion__ y __Correcion_Horarios_Coincidentes__. En el caso en que existan horarios coincidentes (peor caso) existen un total de 5 bucles anidados para realizar, hecho que provoca que el orden de complejidad sea ( __O(n^5)__), donde n es el número de partidos por Jornada."
      ]
    },
    {
      "metadata": {
        "id": "aQypLcd8bsFB",
        "colab_type": "text"
      },
      "cell_type": "markdown",
      "source": [
        "Según el problema (y tenga sentido), diseña un juego de datos de entrada aleatorios"
      ]
    },
    {
      "metadata": {
        "id": "-reEaV_3btGF",
        "colab_type": "code",
        "colab": {}
      },
      "cell_type": "code",
      "source": [
        "# Jornada de LaLiga\n",
        "\n",
        "JORNADA = [\n",
        "    ('Espanyol','Huesca'),\n",
        "    ('Getafe','Rayo Vallecano'),\n",
        "    ('Sevilla','Barcelona'),\n",
        "    ('Alaves','Celta de Vigo'),\n",
        "    ('Athletic Bilbao','Eibar'),\n",
        "    ('Leganes','Valencia'),\n",
        "    ('Atletico Madrid','Villareal'),\n",
        "    ('Valladolid','Betis'),\n",
        "    ('Levante','Real Madrid'),\n",
        "    ('Girona','Real Sociedad')]"
      ],
      "execution_count": 0,
      "outputs": []
    },
    {
      "metadata": {
        "id": "i06Cpffgbthj",
        "colab_type": "text"
      },
      "cell_type": "markdown",
      "source": [
        "Aplica el algoritmo al juego de datos generado"
      ]
    },
    {
      "metadata": {
        "id": "8LMjl6EZbvl3",
        "colab_type": "code",
        "outputId": "54d8311d-e08b-418f-fd49-8d21b14d228a",
        "colab": {
          "base_uri": "https://localhost:8080/",
          "height": 286
        }
      },
      "cell_type": "code",
      "source": [
        "AUDIENCIA, solucion = AlgoritmoGenetico_LaLiga(N, mutacion, Generaciones, HORARIO, JORNADA, CATEGORIA_A, CATEGORIA_B, CATEGORIA_C)\n",
        "\n",
        "\n",
        "# Presentación de resultados\n",
        "\n",
        "index = []\n",
        "for k in range(len(solucion)):\n",
        "  index.append(HORARIO.index(solucion[k]))\n",
        "Horario_final = [H[index[l]] for l in range(len(index))]\n",
        "\n",
        "\n",
        "print ('HORARIOS DE JORNADA DE LIGA:')\n",
        "print ('\\n')\n",
        "for partido in range(len(Horario_final)):\n",
        "  print (JORNADA[partido][0] + ' - ' + JORNADA[partido][1] + ':  ' + Horario_final[partido])\n",
        "  \n",
        "print ('\\n')  \n",
        "print ('AUDIENCIA TOTAL: ', AUDIENCIA ,'Millones')"
      ],
      "execution_count": 32,
      "outputs": [
        {
          "output_type": "stream",
          "text": [
            "HORARIOS DE JORNADA DE LIGA:\n",
            "\n",
            "\n",
            "Espanyol - Huesca:  Lunes 20:00 h\n",
            "Getafe - Rayo Vallecano:  Viernes 20:00 h\n",
            "Sevilla - Barcelona:  Sabado 20:00 h\n",
            "Alaves - Celta de Vigo:  Sabado 16:00 h\n",
            "Athletic Bilbao - Eibar:  Domingo 18:00 h\n",
            "Leganes - Valencia:  Sabado 18:00 h\n",
            "Atletico Madrid - Villareal:  Domingo 20:00 h\n",
            "Valladolid - Betis:  Sabado 12:00 h\n",
            "Levante - Real Madrid:  Domingo 16:00 h\n",
            "Girona - Real Sociedad:  Domingo 12:00 h\n",
            "\n",
            "\n",
            "AUDIENCIA TOTAL:  6.8950000000000005 Millones\n"
          ],
          "name": "stdout"
        }
      ]
    },
    {
      "metadata": {
        "id": "dNjI2Wqtbvy9",
        "colab_type": "text"
      },
      "cell_type": "markdown",
      "source": [
        "Enumera las referencias que has utilizado(si ha sido necesario) para llevar a cabo el trabajo -->"
      ]
    },
    {
      "metadata": {
        "id": "SElJc_HYbySf",
        "colab_type": "text"
      },
      "cell_type": "markdown",
      "source": [
        "__Respuesta__: \n",
        "\n",
        "Las referencias utilizadas han sido los apuntes de clase y el documento \"Introducción a la Computacón Evolutiva\" de Dr. Carlos A. Coello Coello (referencia propuesta en la asignatura)."
      ]
    },
    {
      "metadata": {
        "id": "R-7wYvS9b0sD",
        "colab_type": "text"
      },
      "cell_type": "markdown",
      "source": [
        "Describe brevemente las lineas de como crees que es posible avanzar en el estudio del problema. Ten en cuenta incluso posibles variaciones del problema y/o variaciones al alza del tamaño"
      ]
    },
    {
      "metadata": {
        "id": "_-BvnwJBb1Fj",
        "colab_type": "text"
      },
      "cell_type": "markdown",
      "source": [
        "__Respuesta:__\n",
        "\n",
        "Los posibles líneas de investigación del problema pasan por la comparación con otras técnicas de optimización exactas o heurísticas (como colonia de hormigas) en primer lugar. <br>\n",
        "\n",
        "En segundo lugar, es necesario un estudio enn profundidad de operadores genéticos de selección y cruce principalmente, de forma que se asegure un buen grado de maximización con reducción del número de generaciones. También es necesario estudiar la utilización de elitismo para asegurar el mantenimiento de buenas soluciones, pero sin sobrepasar la presión selectiva del problema y conducir las soluciones a máximos locales.<br>\n",
        "\n",
        "Finalmente, el tratamiento para variaciones al alza del tamaño puede ser abordado inicialmente por una depuración del algoritmo, con el objetivo de reducir su orden de complejidad mediante la generación de funciones más eficientes.<br><br>\n",
        "\n"
      ]
    }
  ]
}